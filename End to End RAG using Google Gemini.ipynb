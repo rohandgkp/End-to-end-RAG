{
  "cells": [
    {
      "cell_type": "code",
      "execution_count": 1,
      "metadata": {
        "colab": {
          "base_uri": "https://localhost:8080/"
        },
        "id": "X6JBhKxjS06v",
        "outputId": "b3fc4097-2d06-4d8d-cd50-009aea5b1c98"
      },
      "outputs": [
        {
          "name": "stdout",
          "output_type": "stream",
          "text": [
            "Reading package lists... Done\n",
            "Building dependency tree... Done\n",
            "Reading state information... Done\n",
            "The following additional packages will be installed:\n",
            "  libarchive-dev libleptonica-dev tesseract-ocr-eng tesseract-ocr-osd\n",
            "The following NEW packages will be installed:\n",
            "  libarchive-dev libleptonica-dev libtesseract-dev tesseract-ocr tesseract-ocr-eng\n",
            "  tesseract-ocr-osd\n",
            "0 upgraded, 6 newly installed, 0 to remove and 45 not upgraded.\n",
            "Need to get 8,560 kB of archives.\n",
            "After this operation, 31.6 MB of additional disk space will be used.\n",
            "Get:1 http://archive.ubuntu.com/ubuntu jammy-updates/main amd64 libarchive-dev amd64 3.6.0-1ubuntu1.1 [582 kB]\n",
            "Get:2 http://archive.ubuntu.com/ubuntu jammy/universe amd64 libleptonica-dev amd64 1.82.0-3build1 [1,562 kB]\n",
            "Get:3 http://archive.ubuntu.com/ubuntu jammy/universe amd64 libtesseract-dev amd64 4.1.1-2.1build1 [1,600 kB]\n",
            "Get:4 http://archive.ubuntu.com/ubuntu jammy/universe amd64 tesseract-ocr-eng all 1:4.00~git30-7274cfa-1.1 [1,591 kB]\n",
            "Get:5 http://archive.ubuntu.com/ubuntu jammy/universe amd64 tesseract-ocr-osd all 1:4.00~git30-7274cfa-1.1 [2,990 kB]\n",
            "Get:6 http://archive.ubuntu.com/ubuntu jammy/universe amd64 tesseract-ocr amd64 4.1.1-2.1build1 [236 kB]\n",
            "Fetched 8,560 kB in 2s (4,142 kB/s)\n",
            "Selecting previously unselected package libarchive-dev:amd64.\n",
            "(Reading database ... 123598 files and directories currently installed.)\n",
            "Preparing to unpack .../0-libarchive-dev_3.6.0-1ubuntu1.1_amd64.deb ...\n",
            "Unpacking libarchive-dev:amd64 (3.6.0-1ubuntu1.1) ...\n",
            "Selecting previously unselected package libleptonica-dev.\n",
            "Preparing to unpack .../1-libleptonica-dev_1.82.0-3build1_amd64.deb ...\n",
            "Unpacking libleptonica-dev (1.82.0-3build1) ...\n",
            "Selecting previously unselected package libtesseract-dev:amd64.\n",
            "Preparing to unpack .../2-libtesseract-dev_4.1.1-2.1build1_amd64.deb ...\n",
            "Unpacking libtesseract-dev:amd64 (4.1.1-2.1build1) ...\n",
            "Selecting previously unselected package tesseract-ocr-eng.\n",
            "Preparing to unpack .../3-tesseract-ocr-eng_1%3a4.00~git30-7274cfa-1.1_all.deb ...\n",
            "Unpacking tesseract-ocr-eng (1:4.00~git30-7274cfa-1.1) ...\n",
            "Selecting previously unselected package tesseract-ocr-osd.\n",
            "Preparing to unpack .../4-tesseract-ocr-osd_1%3a4.00~git30-7274cfa-1.1_all.deb ...\n",
            "Unpacking tesseract-ocr-osd (1:4.00~git30-7274cfa-1.1) ...\n",
            "Selecting previously unselected package tesseract-ocr.\n",
            "Preparing to unpack .../5-tesseract-ocr_4.1.1-2.1build1_amd64.deb ...\n",
            "Unpacking tesseract-ocr (4.1.1-2.1build1) ...\n",
            "Setting up tesseract-ocr-eng (1:4.00~git30-7274cfa-1.1) ...\n",
            "Setting up libleptonica-dev (1.82.0-3build1) ...\n",
            "Setting up libarchive-dev:amd64 (3.6.0-1ubuntu1.1) ...\n",
            "Setting up tesseract-ocr-osd (1:4.00~git30-7274cfa-1.1) ...\n",
            "Setting up libtesseract-dev:amd64 (4.1.1-2.1build1) ...\n",
            "Setting up tesseract-ocr (4.1.1-2.1build1) ...\n",
            "Processing triggers for man-db (2.10.2-1) ...\n",
            "\u001b[2K     \u001b[90m━━━━━━━━━━━━━━━━━━━━━━━━━━━━━━━━━━━━━━━━\u001b[0m \u001b[32m67.3/67.3 kB\u001b[0m \u001b[31m5.5 MB/s\u001b[0m eta \u001b[36m0:00:00\u001b[0m\n",
            "\u001b[?25h  Installing build dependencies ... \u001b[?25l\u001b[?25hdone\n",
            "  Getting requirements to build wheel ... \u001b[?25l\u001b[?25hdone\n",
            "  Preparing metadata (pyproject.toml) ... \u001b[?25l\u001b[?25hdone\n",
            "\u001b[2K     \u001b[90m━━━━━━━━━━━━━━━━━━━━━━━━━━━━━━━━━━━━━━━━\u001b[0m \u001b[32m50.4/50.4 kB\u001b[0m \u001b[31m3.3 MB/s\u001b[0m eta \u001b[36m0:00:00\u001b[0m\n",
            "\u001b[2K   \u001b[90m━━━━━━━━━━━━━━━━━━━━━━━━━━━━━━━━━━━━━━━━\u001b[0m \u001b[32m584.3/584.3 kB\u001b[0m \u001b[31m24.8 MB/s\u001b[0m eta \u001b[36m0:00:00\u001b[0m\n",
            "\u001b[2K   \u001b[90m━━━━━━━━━━━━━━━━━━━━━━━━━━━━━━━━━━━━━━━━\u001b[0m \u001b[32m2.4/2.4 MB\u001b[0m \u001b[31m52.7 MB/s\u001b[0m eta \u001b[36m0:00:00\u001b[0m\n",
            "\u001b[2K   \u001b[90m━━━━━━━━━━━━━━━━━━━━━━━━━━━━━━━━━━━━━━━━\u001b[0m \u001b[32m273.8/273.8 kB\u001b[0m \u001b[31m20.4 MB/s\u001b[0m eta \u001b[36m0:00:00\u001b[0m\n",
            "\u001b[2K   \u001b[90m━━━━━━━━━━━━━━━━━━━━━━━━━━━━━━━━━━━━━━━━\u001b[0m \u001b[32m93.1/93.1 kB\u001b[0m \u001b[31m6.2 MB/s\u001b[0m eta \u001b[36m0:00:00\u001b[0m\n",
            "\u001b[2K   \u001b[90m━━━━━━━━━━━━━━━━━━━━━━━━━━━━━━━━━━━━━━━━\u001b[0m \u001b[32m75.6/75.6 kB\u001b[0m \u001b[31m5.8 MB/s\u001b[0m eta \u001b[36m0:00:00\u001b[0m\n",
            "\u001b[2K   \u001b[90m━━━━━━━━━━━━━━━━━━━━━━━━━━━━━━━━━━━━━━━━\u001b[0m \u001b[32m77.9/77.9 kB\u001b[0m \u001b[31m6.0 MB/s\u001b[0m eta \u001b[36m0:00:00\u001b[0m\n",
            "\u001b[2K   \u001b[90m━━━━━━━━━━━━━━━━━━━━━━━━━━━━━━━━━━━━━━━━\u001b[0m \u001b[32m1.7/1.7 MB\u001b[0m \u001b[31m68.6 MB/s\u001b[0m eta \u001b[36m0:00:00\u001b[0m\n",
            "\u001b[2K   \u001b[90m━━━━━━━━━━━━━━━━━━━━━━━━━━━━━━━━━━━━━━━━\u001b[0m \u001b[32m67.6/67.6 kB\u001b[0m \u001b[31m5.1 MB/s\u001b[0m eta \u001b[36m0:00:00\u001b[0m\n",
            "\u001b[2K   \u001b[90m━━━━━━━━━━━━━━━━━━━━━━━━━━━━━━━━━━━━━━━━\u001b[0m \u001b[32m6.8/6.8 MB\u001b[0m \u001b[31m91.1 MB/s\u001b[0m eta \u001b[36m0:00:00\u001b[0m\n",
            "\u001b[2K   \u001b[90m━━━━━━━━━━━━━━━━━━━━━━━━━━━━━━━━━━━━━━━━\u001b[0m \u001b[32m61.5/61.5 kB\u001b[0m \u001b[31m3.9 MB/s\u001b[0m eta \u001b[36m0:00:00\u001b[0m\n",
            "\u001b[2K   \u001b[90m━━━━━━━━━━━━━━━━━━━━━━━━━━━━━━━━━━━━━━━━\u001b[0m \u001b[32m52.5/52.5 kB\u001b[0m \u001b[31m4.2 MB/s\u001b[0m eta \u001b[36m0:00:00\u001b[0m\n",
            "\u001b[2K   \u001b[90m━━━━━━━━━━━━━━━━━━━━━━━━━━━━━━━━━━━━━━━━\u001b[0m \u001b[32m138.0/138.0 kB\u001b[0m \u001b[31m10.9 MB/s\u001b[0m eta \u001b[36m0:00:00\u001b[0m\n",
            "\u001b[2K   \u001b[90m━━━━━━━━━━━━━━━━━━━━━━━━━━━━━━━━━━━━━━━━\u001b[0m \u001b[32m109.5/109.5 kB\u001b[0m \u001b[31m9.8 MB/s\u001b[0m eta \u001b[36m0:00:00\u001b[0m\n",
            "\u001b[2K   \u001b[90m━━━━━━━━━━━━━━━━━━━━━━━━━━━━━━━━━━━━━━━━\u001b[0m \u001b[32m141.1/141.1 kB\u001b[0m \u001b[31m12.0 MB/s\u001b[0m eta \u001b[36m0:00:00\u001b[0m\n",
            "\u001b[2K   \u001b[90m━━━━━━━━━━━━━━━━━━━━━━━━━━━━━━━━━━━━━━━━\u001b[0m \u001b[32m41.3/41.3 kB\u001b[0m \u001b[31m2.5 MB/s\u001b[0m eta \u001b[36m0:00:00\u001b[0m\n",
            "\u001b[2K   \u001b[90m━━━━━━━━━━━━━━━━━━━━━━━━━━━━━━━━━━━━━━━━\u001b[0m \u001b[32m62.8/62.8 kB\u001b[0m \u001b[31m4.9 MB/s\u001b[0m eta \u001b[36m0:00:00\u001b[0m\n",
            "\u001b[2K   \u001b[90m━━━━━━━━━━━━━━━━━━━━━━━━━━━━━━━━━━━━━━━━\u001b[0m \u001b[32m58.3/58.3 kB\u001b[0m \u001b[31m4.4 MB/s\u001b[0m eta \u001b[36m0:00:00\u001b[0m\n",
            "\u001b[2K   \u001b[90m━━━━━━━━━━━━━━━━━━━━━━━━━━━━━━━━━━━━━━━━\u001b[0m \u001b[32m341.4/341.4 kB\u001b[0m \u001b[31m25.4 MB/s\u001b[0m eta \u001b[36m0:00:00\u001b[0m\n",
            "\u001b[2K   \u001b[90m━━━━━━━━━━━━━━━━━━━━━━━━━━━━━━━━━━━━━━━━\u001b[0m \u001b[32m71.9/71.9 kB\u001b[0m \u001b[31m5.0 MB/s\u001b[0m eta \u001b[36m0:00:00\u001b[0m\n",
            "\u001b[2K   \u001b[90m━━━━━━━━━━━━━━━━━━━━━━━━━━━━━━━━━━━━━━━━\u001b[0m \u001b[32m3.4/3.4 MB\u001b[0m \u001b[31m72.5 MB/s\u001b[0m eta \u001b[36m0:00:00\u001b[0m\n",
            "\u001b[2K   \u001b[90m━━━━━━━━━━━━━━━━━━━━━━━━━━━━━━━━━━━━━━━━\u001b[0m \u001b[32m1.2/1.2 MB\u001b[0m \u001b[31m52.3 MB/s\u001b[0m eta \u001b[36m0:00:00\u001b[0m\n",
            "\u001b[2K   \u001b[90m━━━━━━━━━━━━━━━━━━━━━━━━━━━━━━━━━━━━━━━━\u001b[0m \u001b[32m130.2/130.2 kB\u001b[0m \u001b[31m8.9 MB/s\u001b[0m eta \u001b[36m0:00:00\u001b[0m\n",
            "\u001b[2K   \u001b[90m━━━━━━━━━━━━━━━━━━━━━━━━━━━━━━━━━━━━━━━━\u001b[0m \u001b[32m46.0/46.0 kB\u001b[0m \u001b[31m3.4 MB/s\u001b[0m eta \u001b[36m0:00:00\u001b[0m\n",
            "\u001b[2K   \u001b[90m━━━━━━━━━━━━━━━━━━━━━━━━━━━━━━━━━━━━━━━━\u001b[0m \u001b[32m86.8/86.8 kB\u001b[0m \u001b[31m6.9 MB/s\u001b[0m eta \u001b[36m0:00:00\u001b[0m\n",
            "\u001b[?25h  Building wheel for pypika (pyproject.toml) ... \u001b[?25l\u001b[?25hdone\n"
          ]
        }
      ],
      "source": [
        "!apt install tesseract-ocr libtesseract-dev\n",
        "!pip install -q -U google-generativeai chromadb pytesseract"
      ]
    },
    {
      "cell_type": "code",
      "execution_count": 2,
      "metadata": {
        "id": "4dR9Y4aMS06w"
      },
      "outputs": [],
      "source": [
        "import time\n",
        "from tqdm import tqdm\n",
        "import pathlib\n",
        "import google.generativeai as genai\n",
        "import chromadb\n",
        "from chromadb import Documents, EmbeddingFunction, Embeddings\n",
        "import pandas as pd\n",
        "from PIL import Image\n",
        "import pytesseract\n",
        "from IPython.display import Markdown"
      ]
    },
    {
      "cell_type": "code",
      "execution_count": 3,
      "metadata": {
        "id": "KcqR5FVBS06x"
      },
      "outputs": [],
      "source": [
        "from google.colab import userdata\n",
        "GOOGLE_API_KEY=userdata.get('GOOGLE_API_KEY')\n",
        "\n",
        "genai.configure(api_key=GOOGLE_API_KEY)"
      ]
    },
    {
      "cell_type": "markdown",
      "metadata": {
        "id": "3FIMOUeeS06x"
      },
      "source": [
        "# Apollo 11 Mission\n",
        "\n",
        "Different types of data (otherwise known as multimodal) from NASA's public archive.\n",
        "\n",
        "1. Text: Full final NASA report post-mission, spanning over 300\n",
        "pages of incredibly informative content that details a summary of everything\n",
        "that happened as well as conclusions that NASA researchers and engineers\n",
        "came to.\n",
        "\n",
        "2. Video: Several clips of the famous Neil Armstrong and Buzz Aldrin footage as they\n",
        "first stepped onto the moon, containing highlights of their moonwalks as well\n",
        "as raising the American flag.\n",
        "\n",
        "3. Audio: Audio recorded throughout the\n",
        "mission, which provides insights into how communication between the astronauts\n",
        "occurred as well as from the astronauts to mission control."
      ]
    },
    {
      "cell_type": "markdown",
      "metadata": {
        "id": "ss-k463PS06y"
      },
      "source": [
        "## Data Preparation\n",
        "\n",
        "Upload the resources.zip folder and unzip it using the following commands:"
      ]
    },
    {
      "cell_type": "code",
      "execution_count": 4,
      "metadata": {
        "colab": {
          "base_uri": "https://localhost:8080/"
        },
        "id": "3zgeujn1nlLO",
        "outputId": "28dd1aae-72e6-42dc-e522-fe69980c9170"
      },
      "outputs": [
        {
          "name": "stdout",
          "output_type": "stream",
          "text": [
            "--2024-08-05 06:08:03--  https://video.udacity-data.com/topher/2024/June/66744e79_resources/resources.zip\n",
            "Resolving video.udacity-data.com (video.udacity-data.com)... 104.19.138.72, 104.19.141.72, 104.19.139.72, ...\n",
            "Connecting to video.udacity-data.com (video.udacity-data.com)|104.19.138.72|:443... connected.\n",
            "HTTP request sent, awaiting response... 200 OK\n",
            "Length: 286142532 (273M) [application/zip]\n",
            "Saving to: ‘resources.zip’\n",
            "\n",
            "resources.zip       100%[===================>] 272.89M   178MB/s    in 1.5s    \n",
            "\n",
            "2024-08-05 06:08:05 (178 MB/s) - ‘resources.zip’ saved [286142532/286142532]\n",
            "\n"
          ]
        }
      ],
      "source": [
        "!wget -O resources.zip \"https://video.udacity-data.com/topher/2024/June/66744e79_resources/resources.zip\""
      ]
    },
    {
      "cell_type": "code",
      "execution_count": 5,
      "metadata": {
        "colab": {
          "base_uri": "https://localhost:8080/"
        },
        "id": "A83ccgkRvz8u",
        "outputId": "1a6be6ca-15c2-4d45-9129-0e000c154a88"
      },
      "outputs": [
        {
          "name": "stdout",
          "output_type": "stream",
          "text": [
            "Archive:  resources.zip\n",
            "   creating: resources/\n",
            "  inflating: __MACOSX/._resources    \n",
            "   creating: resources/video/\n",
            "  inflating: __MACOSX/resources/._video  \n",
            "  inflating: resources/.DS_Store     \n",
            "  inflating: __MACOSX/resources/._.DS_Store  \n",
            "   creating: resources/audio/\n",
            "  inflating: __MACOSX/resources/._audio  \n",
            "   creating: resources/text/\n",
            "  inflating: __MACOSX/resources/._text  \n",
            "  inflating: resources/video/Apollo11PlaqueComparison.mov  \n",
            "  inflating: __MACOSX/resources/video/._Apollo11PlaqueComparison.mov  \n",
            "  inflating: resources/video/Apollo11Intro.mov  \n",
            "  inflating: __MACOSX/resources/video/._Apollo11Intro.mov  \n",
            "  inflating: resources/video/Apollo11MoonwalkMontage.mov  \n",
            "  inflating: __MACOSX/resources/video/._Apollo11MoonwalkMontage.mov  \n",
            "  inflating: resources/video/OneSmallStepCompilation.mov  \n",
            "  inflating: __MACOSX/resources/video/._OneSmallStepCompilation.mov  \n",
            "  inflating: resources/video/RaisingTheAmericanFlag.mov  \n",
            "  inflating: __MACOSX/resources/video/._RaisingTheAmericanFlag.mov  \n",
            "  inflating: resources/video/BuzzDescendsCompilation.mov  \n",
            "  inflating: __MACOSX/resources/video/._BuzzDescendsCompilation.mov  \n",
            "  inflating: resources/audio/Apollo11OnboardAudioHighlightClip1.mp3  \n",
            "  inflating: __MACOSX/resources/audio/._Apollo11OnboardAudioHighlightClip1.mp3  \n",
            "  inflating: resources/audio/Apollo11OnboardAudioHighlightClip3.mp3  \n",
            "  inflating: __MACOSX/resources/audio/._Apollo11OnboardAudioHighlightClip3.mp3  \n",
            "  inflating: resources/audio/Apollo11OnboardAudioHighlightClip2.mp3  \n",
            "  inflating: __MACOSX/resources/audio/._Apollo11OnboardAudioHighlightClip2.mp3  \n",
            "  inflating: resources/audio/Apollo11OnboardAudioHighlightClip5.mp3  \n",
            "  inflating: __MACOSX/resources/audio/._Apollo11OnboardAudioHighlightClip5.mp3  \n",
            "  inflating: resources/audio/Apollo11OnboardAudioHighlightClip4.mp3  \n",
            "  inflating: __MACOSX/resources/audio/._Apollo11OnboardAudioHighlightClip4.mp3  \n",
            "  inflating: resources/text/.DS_Store  \n",
            "  inflating: __MACOSX/resources/text/._.DS_Store  \n",
            "  inflating: resources/text/images-333.jpg  \n",
            "  inflating: __MACOSX/resources/text/._images-333.jpg  \n",
            "  inflating: resources/text/images-020.jpg  \n",
            "  inflating: __MACOSX/resources/text/._images-020.jpg  \n",
            "  inflating: resources/text/images-023.jpg  \n",
            "  inflating: __MACOSX/resources/text/._images-023.jpg  \n"
          ]
        }
      ],
      "source": [
        "!unzip resources.zip"
      ]
    },
    {
      "cell_type": "markdown",
      "metadata": {
        "id": "TchHEWKNysN6"
      },
      "source": [
        "\n",
        "When working with different types of data,\n",
        "we first need to parse it in a way that Gemini can understand. We will prepare our data by extracting all file names from the `resources` directory."
      ]
    },
    {
      "cell_type": "code",
      "execution_count": 6,
      "metadata": {
        "id": "C2pWcb50S06y"
      },
      "outputs": [],
      "source": [
        "data_dir = pathlib.Path(\"resources/\")\n",
        "all_file_names = [str(file) for file in data_dir.rglob(\"*\") if file.is_file() and not file.name.startswith('.')]"
      ]
    },
    {
      "cell_type": "code",
      "execution_count": 7,
      "metadata": {
        "colab": {
          "base_uri": "https://localhost:8080/"
        },
        "id": "OVQAB2FYuHMs",
        "outputId": "1ddddc97-dde9-433e-fc70-67e1d9ac7186"
      },
      "outputs": [
        {
          "name": "stdout",
          "output_type": "stream",
          "text": [
            "resources/text/images-333.jpg\n",
            "resources/text/images-020.jpg\n",
            "resources/text/images-023.jpg\n",
            "resources/audio/Apollo11OnboardAudioHighlightClip2.mp3\n",
            "resources/audio/Apollo11OnboardAudioHighlightClip4.mp3\n",
            "resources/audio/Apollo11OnboardAudioHighlightClip5.mp3\n",
            "resources/audio/Apollo11OnboardAudioHighlightClip1.mp3\n",
            "resources/audio/Apollo11OnboardAudioHighlightClip3.mp3\n",
            "resources/video/Apollo11MoonwalkMontage.mov\n",
            "resources/video/BuzzDescendsCompilation.mov\n",
            "resources/video/Apollo11PlaqueComparison.mov\n",
            "resources/video/RaisingTheAmericanFlag.mov\n",
            "resources/video/Apollo11Intro.mov\n",
            "resources/video/OneSmallStepCompilation.mov\n",
            "14\n"
          ]
        }
      ],
      "source": [
        "for file_name in all_file_names:\n",
        "    print(file_name)\n",
        "\n",
        "print(len(all_file_names))"
      ]
    },
    {
      "cell_type": "markdown",
      "metadata": {
        "id": "9tss_lYN2irS"
      },
      "source": [
        "## Retrieval Augmented Generation (RAG)\n",
        "\n",
        "To showcase how we build a RAG, we will first build one for the Text case, and generalize it further after. Here is the general idea:\n",
        "1. **Data Preparation** (done above): We first collected various types of data from NASA's public archive related to the Apollo 11 mission, including text, video, and audio files.\n",
        "2. **Data Extraction and Summarization**: Extract the multimodal data from images, e.g. extract text from images using Optical Character Recognition (OCR), and use Gemini to generate summaries using a specialized prompt.\n",
        "3. **Embedding Generation**: Convert the generated summaries into vector embeddings using Gemini's Text Embedding Model. These embeddings represent the summaries in a numerical format suitable for efficient similarity searches.\n",
        "4. **Creating a Vector Database**: A Vector database was created to store the embeddings. This database facilitates fast and efficient retrieval of relevant documents based on similarity searches. We chose to use Chroma DB.\n",
        "5. **Querying the RAG System**: For a given query, the system retrieves the most relevant documents (based on their embeddings) and generates a response using the retrieved documents as context.\n",
        "\n",
        "Something important to note is that RAGs are usually used only when there is a surplus of data. In other words, if the data can't fit into the model prompt. In this case, the data we provided likely can fit into Gemini's 1 million token window, but for the sake of simplicity and restrictions of Google Colab's runtime, we opted to use a smaller set of data."
      ]
    },
    {
      "cell_type": "markdown",
      "metadata": {
        "id": "1tPe__sZS06z"
      },
      "source": [
        "### Text\n",
        "\n",
        "We will use Tesseract OCR (Optical Character Recognition) to extract text from images of the NASA report."
      ]
    },
    {
      "cell_type": "code",
      "execution_count": 8,
      "metadata": {
        "id": "cABpEnIAS06z"
      },
      "outputs": [],
      "source": [
        "pytesseract.pytesseract.tesseract_cmd = (r'/usr/bin/tesseract')"
      ]
    },
    {
      "cell_type": "markdown",
      "metadata": {
        "id": "_qLI7NRf0W6R"
      },
      "source": [
        "Let's create a function to take in our images of a PDF, transcribe them into text, and summarize each of them."
      ]
    },
    {
      "cell_type": "code",
      "execution_count": 9,
      "metadata": {
        "id": "PmhJmL6tzYGe"
      },
      "outputs": [],
      "source": [
        "def create_text_summary():\n",
        "  path = pathlib.Path(\"resources/text\")\n",
        "\n",
        "  text_summary_prompt = f\"\"\"You are an assistant tailored for summarizing text for retrieval.\n",
        "  These summaries will be turned into vector embeddings and used to retrieve the raw text.\n",
        "  Give a concise summary of the text that is well optimized for retrieval. Here is the text.\"\"\"\n",
        "\n",
        "  images = []\n",
        "  text_summaries = []\n",
        "\n",
        "  for f in path.glob(\"*\"):\n",
        "    if f.is_dir() or f.name.startswith('.'):\n",
        "      continue\n",
        "\n",
        "    image = Image.open(f)\n",
        "    response = model.generate_content([text_summary_prompt, pytesseract.image_to_string(image)])\n",
        "\n",
        "    images.append(image)\n",
        "    text_summaries.append(response.text)\n",
        "\n",
        "  return images, text_summaries"
      ]
    },
    {
      "cell_type": "code",
      "execution_count": 10,
      "metadata": {
        "id": "oVWPg6ohVO4B"
      },
      "outputs": [],
      "source": [
        "safety_settings = [\n",
        "    {\n",
        "        \"category\": \"HARM_CATEGORY_DANGEROUS_CONTENT\",\n",
        "        \"threshold\": \"BLOCK_NONE\",\n",
        "    },\n",
        "]\n",
        "\n",
        "model = genai.GenerativeModel('models/gemini-1.5-flash', safety_settings=safety_settings)"
      ]
    },
    {
      "cell_type": "code",
      "execution_count": 11,
      "metadata": {
        "id": "_LDD1OYD3tzL"
      },
      "outputs": [],
      "source": [
        "image_files, text_summaries = create_text_summary()"
      ]
    },
    {
      "cell_type": "markdown",
      "metadata": {
        "id": "Q4vYQfaP4VaK"
      },
      "source": [
        "Now, we can check out the generated summaries of the three pages we have!"
      ]
    },
    {
      "cell_type": "code",
      "execution_count": 12,
      "metadata": {
        "colab": {
          "base_uri": "https://localhost:8080/"
        },
        "id": "YOaFPyZh4NJN",
        "outputId": "9019ab0c-b9fc-4c67-d885-59dcfaa5f40f"
      },
      "outputs": [
        {
          "name": "stdout",
          "output_type": "stream",
          "text": [
            "This document outlines ground rules and assumptions for EPS analysis. It covers the activation timing of descent stage batteries, checkout time in lunar orbit, battery paralleling during powered descent, operational status of S-band equipment, rendezvous radar electronics, primary navigation and guidance subsystem, and forward window heaters. \n",
            "\n",
            "This document outlines the Apollo 11 mission plan, including crew activities and operations for the AS-506/CSM-107/LM-5 spacecraft.  The plan is based on a July 16, 1969 launch and uses trajectory parameters defined in the Apollo Mission G Spacecraft Operational Trajectory.  The document is under configuration control and all proposed changes must be submitted to the Crew Procedures Control Board (CPCB) via a Crew Procedures Change Request.  Contact Mr. T. A. Guillory for coordination of proposed changes and Mr. W. J. North for distribution requests. \n",
            "\n",
            "This document describes the mission launch and timeline for the Apollo 11 lunar landing mission. It details the launch window, orbit insertion, and translunar coast phases. Key events include Transposition, Docking and LM Ejection, SIVB Propulsive Venting, Navigation Sightings, and Midcourse Corrections. \n",
            "\n"
          ]
        }
      ],
      "source": [
        "for text_summary in text_summaries:\n",
        "  print(text_summary)"
      ]
    },
    {
      "cell_type": "markdown",
      "metadata": {
        "id": "gJplIeEf4dv-"
      },
      "source": [
        "We create the Chroma database using the generated summaries.\n",
        "\n",
        "**Vector Database**: A specialized database designed to store and manage high-dimensional vectors, which are numerical representations of data points. It allows efficient similarity searches to find vectors (and their corresponding data) that are close to a given query vector.\n",
        "\n",
        "**Chroma DB**: An implementation of a vector database used to store and retrieve vector embeddings. These embeddings are generated from our summaries and allow us to perform efficient similarity searches.\n"
      ]
    },
    {
      "cell_type": "code",
      "execution_count": 13,
      "metadata": {
        "id": "rmyZVoVFWH4R"
      },
      "outputs": [],
      "source": [
        "class GeminiEmbeddingFunction(EmbeddingFunction):\n",
        "  def __call__(self, input: Documents) -> Embeddings:\n",
        "    model = 'models/text-embedding-004'\n",
        "    title = \"Custom query\"\n",
        "    return genai.embed_content(model=model,\n",
        "                                content=input,\n",
        "                                task_type=\"retrieval_document\",\n",
        "                                title=title)[\"embedding\"]"
      ]
    },
    {
      "cell_type": "code",
      "execution_count": 14,
      "metadata": {
        "id": "hinj0EPkWJAZ"
      },
      "outputs": [],
      "source": [
        "def create_chroma_db(documents, name):\n",
        "  chroma_client = chromadb.Client()\n",
        "  db = chroma_client.get_or_create_collection(name=name, embedding_function=GeminiEmbeddingFunction())\n",
        "\n",
        "  for i, d in enumerate(documents):\n",
        "    db.add(\n",
        "      documents=d,\n",
        "      ids=str(i)\n",
        "    )\n",
        "  return db"
      ]
    },
    {
      "cell_type": "code",
      "execution_count": 15,
      "metadata": {
        "id": "MhwanL5X3scA"
      },
      "outputs": [],
      "source": [
        "text_db = create_chroma_db(text_summaries, \"text_nasa\")"
      ]
    },
    {
      "cell_type": "markdown",
      "metadata": {
        "id": "pvXSb0gd5JRn"
      },
      "source": [
        "Let's also take a peak at the `text_db` and ensure that embeddings were generated:"
      ]
    },
    {
      "cell_type": "code",
      "execution_count": 16,
      "metadata": {
        "colab": {
          "base_uri": "https://localhost:8080/",
          "height": 143
        },
        "id": "VgZqcKOy5ICs",
        "outputId": "744a2348-9d21-43e8-a6eb-4c822c97e46b"
      },
      "outputs": [
        {
          "data": {
            "application/vnd.google.colaboratory.intrinsic+json": {
              "summary": "{\n  \"name\": \"df\",\n  \"rows\": 3,\n  \"fields\": [\n    {\n      \"column\": \"embeddings\",\n      \"properties\": {\n        \"dtype\": \"object\",\n        \"semantic_type\": \"\",\n        \"description\": \"\"\n      }\n    },\n    {\n      \"column\": \"documents\",\n      \"properties\": {\n        \"dtype\": \"string\",\n        \"num_unique_values\": 3,\n        \"samples\": [\n          \"This document outlines ground rules and assumptions for EPS analysis. It covers the activation timing of descent stage batteries, checkout time in lunar orbit, battery paralleling during powered descent, operational status of S-band equipment, rendezvous radar electronics, primary navigation and guidance subsystem, and forward window heaters. \\n\",\n          \"This document outlines the Apollo 11 mission plan, including crew activities and operations for the AS-506/CSM-107/LM-5 spacecraft.  The plan is based on a July 16, 1969 launch and uses trajectory parameters defined in the Apollo Mission G Spacecraft Operational Trajectory.  The document is under configuration control and all proposed changes must be submitted to the Crew Procedures Control Board (CPCB) via a Crew Procedures Change Request.  Contact Mr. T. A. Guillory for coordination of proposed changes and Mr. W. J. North for distribution requests. \\n\",\n          \"This document describes the mission launch and timeline for the Apollo 11 lunar landing mission. It details the launch window, orbit insertion, and translunar coast phases. Key events include Transposition, Docking and LM Ejection, SIVB Propulsive Venting, Navigation Sightings, and Midcourse Corrections. \\n\"\n        ],\n        \"semantic_type\": \"\",\n        \"description\": \"\"\n      }\n    }\n  ]\n}",
              "type": "dataframe",
              "variable_name": "df"
            },
            "text/html": [
              "\n",
              "  <div id=\"df-b045f451-c7e8-4378-865e-8280aa0d15cd\" class=\"colab-df-container\">\n",
              "    <div>\n",
              "<style scoped>\n",
              "    .dataframe tbody tr th:only-of-type {\n",
              "        vertical-align: middle;\n",
              "    }\n",
              "\n",
              "    .dataframe tbody tr th {\n",
              "        vertical-align: top;\n",
              "    }\n",
              "\n",
              "    .dataframe thead th {\n",
              "        text-align: right;\n",
              "    }\n",
              "</style>\n",
              "<table border=\"1\" class=\"dataframe\">\n",
              "  <thead>\n",
              "    <tr style=\"text-align: right;\">\n",
              "      <th></th>\n",
              "      <th>embeddings</th>\n",
              "      <th>documents</th>\n",
              "    </tr>\n",
              "  </thead>\n",
              "  <tbody>\n",
              "    <tr>\n",
              "      <th>0</th>\n",
              "      <td>[0.0712694451212883, -5.655638233292848e-06, -...</td>\n",
              "      <td>This document outlines ground rules and assump...</td>\n",
              "    </tr>\n",
              "    <tr>\n",
              "      <th>1</th>\n",
              "      <td>[0.07237721234560013, 0.024491339921951294, 0....</td>\n",
              "      <td>This document outlines the Apollo 11 mission p...</td>\n",
              "    </tr>\n",
              "    <tr>\n",
              "      <th>2</th>\n",
              "      <td>[0.07501331716775894, -0.020817341282963753, 0...</td>\n",
              "      <td>This document describes the mission launch and...</td>\n",
              "    </tr>\n",
              "  </tbody>\n",
              "</table>\n",
              "</div>\n",
              "    <div class=\"colab-df-buttons\">\n",
              "\n",
              "  <div class=\"colab-df-container\">\n",
              "    <button class=\"colab-df-convert\" onclick=\"convertToInteractive('df-b045f451-c7e8-4378-865e-8280aa0d15cd')\"\n",
              "            title=\"Convert this dataframe to an interactive table.\"\n",
              "            style=\"display:none;\">\n",
              "\n",
              "  <svg xmlns=\"http://www.w3.org/2000/svg\" height=\"24px\" viewBox=\"0 -960 960 960\">\n",
              "    <path d=\"M120-120v-720h720v720H120Zm60-500h600v-160H180v160Zm220 220h160v-160H400v160Zm0 220h160v-160H400v160ZM180-400h160v-160H180v160Zm440 0h160v-160H620v160ZM180-180h160v-160H180v160Zm440 0h160v-160H620v160Z\"/>\n",
              "  </svg>\n",
              "    </button>\n",
              "\n",
              "  <style>\n",
              "    .colab-df-container {\n",
              "      display:flex;\n",
              "      gap: 12px;\n",
              "    }\n",
              "\n",
              "    .colab-df-convert {\n",
              "      background-color: #E8F0FE;\n",
              "      border: none;\n",
              "      border-radius: 50%;\n",
              "      cursor: pointer;\n",
              "      display: none;\n",
              "      fill: #1967D2;\n",
              "      height: 32px;\n",
              "      padding: 0 0 0 0;\n",
              "      width: 32px;\n",
              "    }\n",
              "\n",
              "    .colab-df-convert:hover {\n",
              "      background-color: #E2EBFA;\n",
              "      box-shadow: 0px 1px 2px rgba(60, 64, 67, 0.3), 0px 1px 3px 1px rgba(60, 64, 67, 0.15);\n",
              "      fill: #174EA6;\n",
              "    }\n",
              "\n",
              "    .colab-df-buttons div {\n",
              "      margin-bottom: 4px;\n",
              "    }\n",
              "\n",
              "    [theme=dark] .colab-df-convert {\n",
              "      background-color: #3B4455;\n",
              "      fill: #D2E3FC;\n",
              "    }\n",
              "\n",
              "    [theme=dark] .colab-df-convert:hover {\n",
              "      background-color: #434B5C;\n",
              "      box-shadow: 0px 1px 3px 1px rgba(0, 0, 0, 0.15);\n",
              "      filter: drop-shadow(0px 1px 2px rgba(0, 0, 0, 0.3));\n",
              "      fill: #FFFFFF;\n",
              "    }\n",
              "  </style>\n",
              "\n",
              "    <script>\n",
              "      const buttonEl =\n",
              "        document.querySelector('#df-b045f451-c7e8-4378-865e-8280aa0d15cd button.colab-df-convert');\n",
              "      buttonEl.style.display =\n",
              "        google.colab.kernel.accessAllowed ? 'block' : 'none';\n",
              "\n",
              "      async function convertToInteractive(key) {\n",
              "        const element = document.querySelector('#df-b045f451-c7e8-4378-865e-8280aa0d15cd');\n",
              "        const dataTable =\n",
              "          await google.colab.kernel.invokeFunction('convertToInteractive',\n",
              "                                                    [key], {});\n",
              "        if (!dataTable) return;\n",
              "\n",
              "        const docLinkHtml = 'Like what you see? Visit the ' +\n",
              "          '<a target=\"_blank\" href=https://colab.research.google.com/notebooks/data_table.ipynb>data table notebook</a>'\n",
              "          + ' to learn more about interactive tables.';\n",
              "        element.innerHTML = '';\n",
              "        dataTable['output_type'] = 'display_data';\n",
              "        await google.colab.output.renderOutput(dataTable, element);\n",
              "        const docLink = document.createElement('div');\n",
              "        docLink.innerHTML = docLinkHtml;\n",
              "        element.appendChild(docLink);\n",
              "      }\n",
              "    </script>\n",
              "  </div>\n",
              "\n",
              "\n",
              "<div id=\"df-b906fc01-5076-4b29-a68f-a5d1aaead865\">\n",
              "  <button class=\"colab-df-quickchart\" onclick=\"quickchart('df-b906fc01-5076-4b29-a68f-a5d1aaead865')\"\n",
              "            title=\"Suggest charts\"\n",
              "            style=\"display:none;\">\n",
              "\n",
              "<svg xmlns=\"http://www.w3.org/2000/svg\" height=\"24px\"viewBox=\"0 0 24 24\"\n",
              "     width=\"24px\">\n",
              "    <g>\n",
              "        <path d=\"M19 3H5c-1.1 0-2 .9-2 2v14c0 1.1.9 2 2 2h14c1.1 0 2-.9 2-2V5c0-1.1-.9-2-2-2zM9 17H7v-7h2v7zm4 0h-2V7h2v10zm4 0h-2v-4h2v4z\"/>\n",
              "    </g>\n",
              "</svg>\n",
              "  </button>\n",
              "\n",
              "<style>\n",
              "  .colab-df-quickchart {\n",
              "      --bg-color: #E8F0FE;\n",
              "      --fill-color: #1967D2;\n",
              "      --hover-bg-color: #E2EBFA;\n",
              "      --hover-fill-color: #174EA6;\n",
              "      --disabled-fill-color: #AAA;\n",
              "      --disabled-bg-color: #DDD;\n",
              "  }\n",
              "\n",
              "  [theme=dark] .colab-df-quickchart {\n",
              "      --bg-color: #3B4455;\n",
              "      --fill-color: #D2E3FC;\n",
              "      --hover-bg-color: #434B5C;\n",
              "      --hover-fill-color: #FFFFFF;\n",
              "      --disabled-bg-color: #3B4455;\n",
              "      --disabled-fill-color: #666;\n",
              "  }\n",
              "\n",
              "  .colab-df-quickchart {\n",
              "    background-color: var(--bg-color);\n",
              "    border: none;\n",
              "    border-radius: 50%;\n",
              "    cursor: pointer;\n",
              "    display: none;\n",
              "    fill: var(--fill-color);\n",
              "    height: 32px;\n",
              "    padding: 0;\n",
              "    width: 32px;\n",
              "  }\n",
              "\n",
              "  .colab-df-quickchart:hover {\n",
              "    background-color: var(--hover-bg-color);\n",
              "    box-shadow: 0 1px 2px rgba(60, 64, 67, 0.3), 0 1px 3px 1px rgba(60, 64, 67, 0.15);\n",
              "    fill: var(--button-hover-fill-color);\n",
              "  }\n",
              "\n",
              "  .colab-df-quickchart-complete:disabled,\n",
              "  .colab-df-quickchart-complete:disabled:hover {\n",
              "    background-color: var(--disabled-bg-color);\n",
              "    fill: var(--disabled-fill-color);\n",
              "    box-shadow: none;\n",
              "  }\n",
              "\n",
              "  .colab-df-spinner {\n",
              "    border: 2px solid var(--fill-color);\n",
              "    border-color: transparent;\n",
              "    border-bottom-color: var(--fill-color);\n",
              "    animation:\n",
              "      spin 1s steps(1) infinite;\n",
              "  }\n",
              "\n",
              "  @keyframes spin {\n",
              "    0% {\n",
              "      border-color: transparent;\n",
              "      border-bottom-color: var(--fill-color);\n",
              "      border-left-color: var(--fill-color);\n",
              "    }\n",
              "    20% {\n",
              "      border-color: transparent;\n",
              "      border-left-color: var(--fill-color);\n",
              "      border-top-color: var(--fill-color);\n",
              "    }\n",
              "    30% {\n",
              "      border-color: transparent;\n",
              "      border-left-color: var(--fill-color);\n",
              "      border-top-color: var(--fill-color);\n",
              "      border-right-color: var(--fill-color);\n",
              "    }\n",
              "    40% {\n",
              "      border-color: transparent;\n",
              "      border-right-color: var(--fill-color);\n",
              "      border-top-color: var(--fill-color);\n",
              "    }\n",
              "    60% {\n",
              "      border-color: transparent;\n",
              "      border-right-color: var(--fill-color);\n",
              "    }\n",
              "    80% {\n",
              "      border-color: transparent;\n",
              "      border-right-color: var(--fill-color);\n",
              "      border-bottom-color: var(--fill-color);\n",
              "    }\n",
              "    90% {\n",
              "      border-color: transparent;\n",
              "      border-bottom-color: var(--fill-color);\n",
              "    }\n",
              "  }\n",
              "</style>\n",
              "\n",
              "  <script>\n",
              "    async function quickchart(key) {\n",
              "      const quickchartButtonEl =\n",
              "        document.querySelector('#' + key + ' button');\n",
              "      quickchartButtonEl.disabled = true;  // To prevent multiple clicks.\n",
              "      quickchartButtonEl.classList.add('colab-df-spinner');\n",
              "      try {\n",
              "        const charts = await google.colab.kernel.invokeFunction(\n",
              "            'suggestCharts', [key], {});\n",
              "      } catch (error) {\n",
              "        console.error('Error during call to suggestCharts:', error);\n",
              "      }\n",
              "      quickchartButtonEl.classList.remove('colab-df-spinner');\n",
              "      quickchartButtonEl.classList.add('colab-df-quickchart-complete');\n",
              "    }\n",
              "    (() => {\n",
              "      let quickchartButtonEl =\n",
              "        document.querySelector('#df-b906fc01-5076-4b29-a68f-a5d1aaead865 button');\n",
              "      quickchartButtonEl.style.display =\n",
              "        google.colab.kernel.accessAllowed ? 'block' : 'none';\n",
              "    })();\n",
              "  </script>\n",
              "</div>\n",
              "\n",
              "  <div id=\"id_77ccedfa-8f91-40ab-8b06-335bfe605922\">\n",
              "    <style>\n",
              "      .colab-df-generate {\n",
              "        background-color: #E8F0FE;\n",
              "        border: none;\n",
              "        border-radius: 50%;\n",
              "        cursor: pointer;\n",
              "        display: none;\n",
              "        fill: #1967D2;\n",
              "        height: 32px;\n",
              "        padding: 0 0 0 0;\n",
              "        width: 32px;\n",
              "      }\n",
              "\n",
              "      .colab-df-generate:hover {\n",
              "        background-color: #E2EBFA;\n",
              "        box-shadow: 0px 1px 2px rgba(60, 64, 67, 0.3), 0px 1px 3px 1px rgba(60, 64, 67, 0.15);\n",
              "        fill: #174EA6;\n",
              "      }\n",
              "\n",
              "      [theme=dark] .colab-df-generate {\n",
              "        background-color: #3B4455;\n",
              "        fill: #D2E3FC;\n",
              "      }\n",
              "\n",
              "      [theme=dark] .colab-df-generate:hover {\n",
              "        background-color: #434B5C;\n",
              "        box-shadow: 0px 1px 3px 1px rgba(0, 0, 0, 0.15);\n",
              "        filter: drop-shadow(0px 1px 2px rgba(0, 0, 0, 0.3));\n",
              "        fill: #FFFFFF;\n",
              "      }\n",
              "    </style>\n",
              "    <button class=\"colab-df-generate\" onclick=\"generateWithVariable('df')\"\n",
              "            title=\"Generate code using this dataframe.\"\n",
              "            style=\"display:none;\">\n",
              "\n",
              "  <svg xmlns=\"http://www.w3.org/2000/svg\" height=\"24px\"viewBox=\"0 0 24 24\"\n",
              "       width=\"24px\">\n",
              "    <path d=\"M7,19H8.4L18.45,9,17,7.55,7,17.6ZM5,21V16.75L18.45,3.32a2,2,0,0,1,2.83,0l1.4,1.43a1.91,1.91,0,0,1,.58,1.4,1.91,1.91,0,0,1-.58,1.4L9.25,21ZM18.45,9,17,7.55Zm-12,3A5.31,5.31,0,0,0,4.9,8.1,5.31,5.31,0,0,0,1,6.5,5.31,5.31,0,0,0,4.9,4.9,5.31,5.31,0,0,0,6.5,1,5.31,5.31,0,0,0,8.1,4.9,5.31,5.31,0,0,0,12,6.5,5.46,5.46,0,0,0,6.5,12Z\"/>\n",
              "  </svg>\n",
              "    </button>\n",
              "    <script>\n",
              "      (() => {\n",
              "      const buttonEl =\n",
              "        document.querySelector('#id_77ccedfa-8f91-40ab-8b06-335bfe605922 button.colab-df-generate');\n",
              "      buttonEl.style.display =\n",
              "        google.colab.kernel.accessAllowed ? 'block' : 'none';\n",
              "\n",
              "      buttonEl.onclick = () => {\n",
              "        google.colab.notebook.generateWithVariable('df');\n",
              "      }\n",
              "      })();\n",
              "    </script>\n",
              "  </div>\n",
              "\n",
              "    </div>\n",
              "  </div>\n"
            ],
            "text/plain": [
              "                                          embeddings  \\\n",
              "0  [0.0712694451212883, -5.655638233292848e-06, -...   \n",
              "1  [0.07237721234560013, 0.024491339921951294, 0....   \n",
              "2  [0.07501331716775894, -0.020817341282963753, 0...   \n",
              "\n",
              "                                           documents  \n",
              "0  This document outlines ground rules and assump...  \n",
              "1  This document outlines the Apollo 11 mission p...  \n",
              "2  This document describes the mission launch and...  "
            ]
          },
          "execution_count": 16,
          "metadata": {},
          "output_type": "execute_result"
        }
      ],
      "source": [
        "data = {\n",
        "    'embeddings': text_db.peek()['embeddings'],\n",
        "    'documents': text_db.peek()['documents']\n",
        "}\n",
        "\n",
        "df = pd.DataFrame.from_dict(data, orient='index').transpose()\n",
        "df"
      ]
    },
    {
      "cell_type": "markdown",
      "metadata": {
        "id": "grqxGxZL5NhR"
      },
      "source": [
        "You should see a column called `embeddings` with what are seemingly random values, but these values are actually high-dimensional vectors that represent the semantic meaning of your summaries."
      ]
    },
    {
      "cell_type": "markdown",
      "metadata": {
        "id": "NFtUbwH255EO"
      },
      "source": [
        "Now let's actually try querying our information. We'll test a simple example like getting some file that has to do with the Apollo 11 Flight Plan."
      ]
    },
    {
      "cell_type": "code",
      "execution_count": 17,
      "metadata": {
        "id": "Tv_AaE-b5iHx"
      },
      "outputs": [],
      "source": [
        "def get_relevant_files(query, db):\n",
        "  results = db.query(query_texts=[query], n_results=3)\n",
        "  return results[\"ids\"][0]"
      ]
    },
    {
      "cell_type": "code",
      "execution_count": 18,
      "metadata": {
        "colab": {
          "base_uri": "https://localhost:8080/",
          "height": 35
        },
        "id": "SusGynR_6PRP",
        "outputId": "6e3998ad-c413-4d73-cbb2-2214ea8742e0"
      },
      "outputs": [
        {
          "name": "stdout",
          "output_type": "stream",
          "text": [
            "['1', '2', '0']\n"
          ]
        }
      ],
      "source": [
        "files = get_relevant_files(\"Apollo 11 Flight Plan\", text_db)\n",
        "print(files)"
      ]
    },
    {
      "cell_type": "markdown",
      "metadata": {
        "id": "qP0aOcL666DQ"
      },
      "source": [
        "You should expect to see something like `['1', '0', '2']`. This means that the first entry in the `text_db` is most similar. If you look above at our `pd.DataFrame` output, the document with id 1 is the document about the Apollo 11 Flight Plan, so this is working as we expected!"
      ]
    },
    {
      "cell_type": "markdown",
      "metadata": {
        "id": "roy1qlV57T6Q"
      },
      "source": [
        "### Video and Audio\n"
      ]
    },
    {
      "cell_type": "code",
      "execution_count": 19,
      "metadata": {
        "id": "-WcSfaRubQsE"
      },
      "outputs": [],
      "source": [
        "def create_summary(modality):\n",
        "  path = data_dir / modality\n",
        "\n",
        "  summary_prompt = f\"\"\"You are an assistant tailored for summarizing {modality} for retrieval.\n",
        "  These summaries will be turned into vector embeddings and used to retrieve the raw {modality}.\n",
        "  Give a concise summary of the {modality} that is well optimized for retrieval. Here is the {modality}.\"\"\"\n",
        "\n",
        "  files = []\n",
        "  summaries = []\n",
        "\n",
        "  for f in path.glob(\"*\"):\n",
        "    if f.is_dir() or f.name.startswith('.'):\n",
        "      continue\n",
        "    print(f)\n",
        "\n",
        "    if modality == \"text\":\n",
        "      file = Image.open(f)\n",
        "      response = model.generate_content([summary_prompt, pytesseract.image_to_string(file)])\n",
        "\n",
        "    else:\n",
        "      file = genai.upload_file(f)\n",
        "\n",
        "      while file.state.name == \"PROCESSING\":\n",
        "        print(\"Waiting for video file upload...\\n\", end='')\n",
        "        time.sleep(5)\n",
        "        file = genai.get_file(file.name)\n",
        "\n",
        "      response = model.generate_content([summary_prompt, file])\n",
        "\n",
        "    files.append(file)\n",
        "    summaries.append(response.text)\n",
        "\n",
        "  return files, summaries"
      ]
    },
    {
      "cell_type": "markdown",
      "metadata": {
        "id": "W9L-FAQz-UFO"
      },
      "source": [
        "Now, we will create a folder with all of our data of different modalities. In particular, the first 5 are audio files, next 3 are text files, and final 6 are video files."
      ]
    },
    {
      "cell_type": "code",
      "execution_count": 20,
      "metadata": {
        "colab": {
          "base_uri": "https://localhost:8080/",
          "height": 380
        },
        "id": "wkwbUFxBWV-V",
        "outputId": "9e036a4b-644b-4a32-b319-e7c3e3962bf7"
      },
      "outputs": [
        {
          "name": "stdout",
          "output_type": "stream",
          "text": [
            "resources/audio/Apollo11OnboardAudioHighlightClip2.mp3\n",
            "resources/audio/Apollo11OnboardAudioHighlightClip4.mp3\n",
            "resources/audio/Apollo11OnboardAudioHighlightClip5.mp3\n",
            "resources/audio/Apollo11OnboardAudioHighlightClip1.mp3\n",
            "resources/audio/Apollo11OnboardAudioHighlightClip3.mp3\n",
            "resources/text/images-333.jpg\n",
            "resources/text/images-020.jpg\n",
            "resources/text/images-023.jpg\n",
            "resources/video/Apollo11MoonwalkMontage.mov\n",
            "Waiting for video file upload...\n",
            "resources/video/BuzzDescendsCompilation.mov\n",
            "Waiting for video file upload...\n",
            "resources/video/Apollo11PlaqueComparison.mov\n",
            "Waiting for video file upload...\n",
            "resources/video/RaisingTheAmericanFlag.mov\n",
            "Waiting for video file upload...\n",
            "resources/video/Apollo11Intro.mov\n",
            "Waiting for video file upload...\n",
            "resources/video/OneSmallStepCompilation.mov\n",
            "Waiting for video file upload...\n"
          ]
        }
      ],
      "source": [
        "all_files = []\n",
        "all_summaries = []\n",
        "\n",
        "for modality_type in [\"audio\", \"text\", \"video\"]:\n",
        "  files, summaries = create_summary(modality_type)\n",
        "  all_files.extend(files)\n",
        "  all_summaries.extend(summaries)"
      ]
    },
    {
      "cell_type": "code",
      "execution_count": 21,
      "metadata": {
        "id": "Po7c72aFuHMt"
      },
      "outputs": [],
      "source": [
        "db = create_chroma_db(all_summaries, \"nasa\")"
      ]
    },
    {
      "cell_type": "markdown",
      "metadata": {
        "id": "iHvVQxOR96Gr"
      },
      "source": [
        "Again, ensure that the embeddings were generated. Notice that now, we have audio, video, and text data."
      ]
    },
    {
      "cell_type": "code",
      "execution_count": 22,
      "metadata": {
        "colab": {
          "base_uri": "https://localhost:8080/",
          "height": 363
        },
        "id": "d6qkxWbWuHMt",
        "outputId": "63d09a17-98e8-4e6b-d7b4-5758f3b18934"
      },
      "outputs": [
        {
          "data": {
            "application/vnd.google.colaboratory.intrinsic+json": {
              "summary": "{\n  \"name\": \"df\",\n  \"rows\": 10,\n  \"fields\": [\n    {\n      \"column\": \"embeddings\",\n      \"properties\": {\n        \"dtype\": \"object\",\n        \"semantic_type\": \"\",\n        \"description\": \"\"\n      }\n    },\n    {\n      \"column\": \"documents\",\n      \"properties\": {\n        \"dtype\": \"string\",\n        \"num_unique_values\": 10,\n        \"samples\": [\n          \"A group of astronauts are on a mission in space and are discussing taking pictures of the moon and the Earth. They talk about the best way to capture the Earth rising, the type of camera equipment they're using, and their expectations for what the photos will look like. The conversation is casual and humorous, showing the camaraderie of the astronauts on their mission. \\n\",\n          \"Two people are discussing a flight plan. One person states that they are 3 minutes ahead of the flight plan and suggests that they should slow down to stay on schedule. They discuss using the 3 minute head start to make sure they are in time for their destination. \",\n          \"This video is a comparison of the original NASA footage of Neil Armstrong descending the ladder of the Apollo 11 Lunar Module with a restored version from 2009.  The audio is of the astronaut's voice communication from the event. \"\n        ],\n        \"semantic_type\": \"\",\n        \"description\": \"\"\n      }\n    }\n  ]\n}",
              "type": "dataframe",
              "variable_name": "df"
            },
            "text/html": [
              "\n",
              "  <div id=\"df-71b9a5a4-4ba4-47c4-87e0-9b496f919e8d\" class=\"colab-df-container\">\n",
              "    <div>\n",
              "<style scoped>\n",
              "    .dataframe tbody tr th:only-of-type {\n",
              "        vertical-align: middle;\n",
              "    }\n",
              "\n",
              "    .dataframe tbody tr th {\n",
              "        vertical-align: top;\n",
              "    }\n",
              "\n",
              "    .dataframe thead th {\n",
              "        text-align: right;\n",
              "    }\n",
              "</style>\n",
              "<table border=\"1\" class=\"dataframe\">\n",
              "  <thead>\n",
              "    <tr style=\"text-align: right;\">\n",
              "      <th></th>\n",
              "      <th>embeddings</th>\n",
              "      <th>documents</th>\n",
              "    </tr>\n",
              "  </thead>\n",
              "  <tbody>\n",
              "    <tr>\n",
              "      <th>0</th>\n",
              "      <td>[0.056587886065244675, -0.02480756677687168, -...</td>\n",
              "      <td>Crew members discuss the pressure and other da...</td>\n",
              "    </tr>\n",
              "    <tr>\n",
              "      <th>1</th>\n",
              "      <td>[0.03179985284805298, -0.010213697329163551, -...</td>\n",
              "      <td>Two people are discussing a flight plan. One p...</td>\n",
              "    </tr>\n",
              "    <tr>\n",
              "      <th>2</th>\n",
              "      <td>[0.052620116621255875, -0.015188580378890038, ...</td>\n",
              "      <td>Apollo 11 astronauts Buzz Aldrin and Neil Arms...</td>\n",
              "    </tr>\n",
              "    <tr>\n",
              "      <th>3</th>\n",
              "      <td>[0.04529229924082756, -0.01137058436870575, -0...</td>\n",
              "      <td>This video shows a side-by-side comparison of ...</td>\n",
              "    </tr>\n",
              "    <tr>\n",
              "      <th>4</th>\n",
              "      <td>[0.04843682795763016, -0.03361263498663902, 0....</td>\n",
              "      <td>This is footage from the Apollo 11 moon landin...</td>\n",
              "    </tr>\n",
              "    <tr>\n",
              "      <th>5</th>\n",
              "      <td>[0.03611447289586067, -0.03427395224571228, -0...</td>\n",
              "      <td>This video is a comparison of the original NAS...</td>\n",
              "    </tr>\n",
              "    <tr>\n",
              "      <th>6</th>\n",
              "      <td>[0.0539969727396965, 0.026326457038521767, -0....</td>\n",
              "      <td>This audio is a conversation between two peopl...</td>\n",
              "    </tr>\n",
              "    <tr>\n",
              "      <th>7</th>\n",
              "      <td>[-0.00819326564669609, 0.0029475842602550983, ...</td>\n",
              "      <td>Two people are talking about flying and how to...</td>\n",
              "    </tr>\n",
              "    <tr>\n",
              "      <th>8</th>\n",
              "      <td>[0.04129211977124214, -0.02891802228987217, -0...</td>\n",
              "      <td>A group of astronauts are on a mission in spac...</td>\n",
              "    </tr>\n",
              "    <tr>\n",
              "      <th>9</th>\n",
              "      <td>[0.08152654767036438, 0.000555358303245157, -0...</td>\n",
              "      <td>This document outlines ground rules and assump...</td>\n",
              "    </tr>\n",
              "  </tbody>\n",
              "</table>\n",
              "</div>\n",
              "    <div class=\"colab-df-buttons\">\n",
              "\n",
              "  <div class=\"colab-df-container\">\n",
              "    <button class=\"colab-df-convert\" onclick=\"convertToInteractive('df-71b9a5a4-4ba4-47c4-87e0-9b496f919e8d')\"\n",
              "            title=\"Convert this dataframe to an interactive table.\"\n",
              "            style=\"display:none;\">\n",
              "\n",
              "  <svg xmlns=\"http://www.w3.org/2000/svg\" height=\"24px\" viewBox=\"0 -960 960 960\">\n",
              "    <path d=\"M120-120v-720h720v720H120Zm60-500h600v-160H180v160Zm220 220h160v-160H400v160Zm0 220h160v-160H400v160ZM180-400h160v-160H180v160Zm440 0h160v-160H620v160ZM180-180h160v-160H180v160Zm440 0h160v-160H620v160Z\"/>\n",
              "  </svg>\n",
              "    </button>\n",
              "\n",
              "  <style>\n",
              "    .colab-df-container {\n",
              "      display:flex;\n",
              "      gap: 12px;\n",
              "    }\n",
              "\n",
              "    .colab-df-convert {\n",
              "      background-color: #E8F0FE;\n",
              "      border: none;\n",
              "      border-radius: 50%;\n",
              "      cursor: pointer;\n",
              "      display: none;\n",
              "      fill: #1967D2;\n",
              "      height: 32px;\n",
              "      padding: 0 0 0 0;\n",
              "      width: 32px;\n",
              "    }\n",
              "\n",
              "    .colab-df-convert:hover {\n",
              "      background-color: #E2EBFA;\n",
              "      box-shadow: 0px 1px 2px rgba(60, 64, 67, 0.3), 0px 1px 3px 1px rgba(60, 64, 67, 0.15);\n",
              "      fill: #174EA6;\n",
              "    }\n",
              "\n",
              "    .colab-df-buttons div {\n",
              "      margin-bottom: 4px;\n",
              "    }\n",
              "\n",
              "    [theme=dark] .colab-df-convert {\n",
              "      background-color: #3B4455;\n",
              "      fill: #D2E3FC;\n",
              "    }\n",
              "\n",
              "    [theme=dark] .colab-df-convert:hover {\n",
              "      background-color: #434B5C;\n",
              "      box-shadow: 0px 1px 3px 1px rgba(0, 0, 0, 0.15);\n",
              "      filter: drop-shadow(0px 1px 2px rgba(0, 0, 0, 0.3));\n",
              "      fill: #FFFFFF;\n",
              "    }\n",
              "  </style>\n",
              "\n",
              "    <script>\n",
              "      const buttonEl =\n",
              "        document.querySelector('#df-71b9a5a4-4ba4-47c4-87e0-9b496f919e8d button.colab-df-convert');\n",
              "      buttonEl.style.display =\n",
              "        google.colab.kernel.accessAllowed ? 'block' : 'none';\n",
              "\n",
              "      async function convertToInteractive(key) {\n",
              "        const element = document.querySelector('#df-71b9a5a4-4ba4-47c4-87e0-9b496f919e8d');\n",
              "        const dataTable =\n",
              "          await google.colab.kernel.invokeFunction('convertToInteractive',\n",
              "                                                    [key], {});\n",
              "        if (!dataTable) return;\n",
              "\n",
              "        const docLinkHtml = 'Like what you see? Visit the ' +\n",
              "          '<a target=\"_blank\" href=https://colab.research.google.com/notebooks/data_table.ipynb>data table notebook</a>'\n",
              "          + ' to learn more about interactive tables.';\n",
              "        element.innerHTML = '';\n",
              "        dataTable['output_type'] = 'display_data';\n",
              "        await google.colab.output.renderOutput(dataTable, element);\n",
              "        const docLink = document.createElement('div');\n",
              "        docLink.innerHTML = docLinkHtml;\n",
              "        element.appendChild(docLink);\n",
              "      }\n",
              "    </script>\n",
              "  </div>\n",
              "\n",
              "\n",
              "<div id=\"df-f712ff84-fa16-47e6-ac5e-5fa51705eda1\">\n",
              "  <button class=\"colab-df-quickchart\" onclick=\"quickchart('df-f712ff84-fa16-47e6-ac5e-5fa51705eda1')\"\n",
              "            title=\"Suggest charts\"\n",
              "            style=\"display:none;\">\n",
              "\n",
              "<svg xmlns=\"http://www.w3.org/2000/svg\" height=\"24px\"viewBox=\"0 0 24 24\"\n",
              "     width=\"24px\">\n",
              "    <g>\n",
              "        <path d=\"M19 3H5c-1.1 0-2 .9-2 2v14c0 1.1.9 2 2 2h14c1.1 0 2-.9 2-2V5c0-1.1-.9-2-2-2zM9 17H7v-7h2v7zm4 0h-2V7h2v10zm4 0h-2v-4h2v4z\"/>\n",
              "    </g>\n",
              "</svg>\n",
              "  </button>\n",
              "\n",
              "<style>\n",
              "  .colab-df-quickchart {\n",
              "      --bg-color: #E8F0FE;\n",
              "      --fill-color: #1967D2;\n",
              "      --hover-bg-color: #E2EBFA;\n",
              "      --hover-fill-color: #174EA6;\n",
              "      --disabled-fill-color: #AAA;\n",
              "      --disabled-bg-color: #DDD;\n",
              "  }\n",
              "\n",
              "  [theme=dark] .colab-df-quickchart {\n",
              "      --bg-color: #3B4455;\n",
              "      --fill-color: #D2E3FC;\n",
              "      --hover-bg-color: #434B5C;\n",
              "      --hover-fill-color: #FFFFFF;\n",
              "      --disabled-bg-color: #3B4455;\n",
              "      --disabled-fill-color: #666;\n",
              "  }\n",
              "\n",
              "  .colab-df-quickchart {\n",
              "    background-color: var(--bg-color);\n",
              "    border: none;\n",
              "    border-radius: 50%;\n",
              "    cursor: pointer;\n",
              "    display: none;\n",
              "    fill: var(--fill-color);\n",
              "    height: 32px;\n",
              "    padding: 0;\n",
              "    width: 32px;\n",
              "  }\n",
              "\n",
              "  .colab-df-quickchart:hover {\n",
              "    background-color: var(--hover-bg-color);\n",
              "    box-shadow: 0 1px 2px rgba(60, 64, 67, 0.3), 0 1px 3px 1px rgba(60, 64, 67, 0.15);\n",
              "    fill: var(--button-hover-fill-color);\n",
              "  }\n",
              "\n",
              "  .colab-df-quickchart-complete:disabled,\n",
              "  .colab-df-quickchart-complete:disabled:hover {\n",
              "    background-color: var(--disabled-bg-color);\n",
              "    fill: var(--disabled-fill-color);\n",
              "    box-shadow: none;\n",
              "  }\n",
              "\n",
              "  .colab-df-spinner {\n",
              "    border: 2px solid var(--fill-color);\n",
              "    border-color: transparent;\n",
              "    border-bottom-color: var(--fill-color);\n",
              "    animation:\n",
              "      spin 1s steps(1) infinite;\n",
              "  }\n",
              "\n",
              "  @keyframes spin {\n",
              "    0% {\n",
              "      border-color: transparent;\n",
              "      border-bottom-color: var(--fill-color);\n",
              "      border-left-color: var(--fill-color);\n",
              "    }\n",
              "    20% {\n",
              "      border-color: transparent;\n",
              "      border-left-color: var(--fill-color);\n",
              "      border-top-color: var(--fill-color);\n",
              "    }\n",
              "    30% {\n",
              "      border-color: transparent;\n",
              "      border-left-color: var(--fill-color);\n",
              "      border-top-color: var(--fill-color);\n",
              "      border-right-color: var(--fill-color);\n",
              "    }\n",
              "    40% {\n",
              "      border-color: transparent;\n",
              "      border-right-color: var(--fill-color);\n",
              "      border-top-color: var(--fill-color);\n",
              "    }\n",
              "    60% {\n",
              "      border-color: transparent;\n",
              "      border-right-color: var(--fill-color);\n",
              "    }\n",
              "    80% {\n",
              "      border-color: transparent;\n",
              "      border-right-color: var(--fill-color);\n",
              "      border-bottom-color: var(--fill-color);\n",
              "    }\n",
              "    90% {\n",
              "      border-color: transparent;\n",
              "      border-bottom-color: var(--fill-color);\n",
              "    }\n",
              "  }\n",
              "</style>\n",
              "\n",
              "  <script>\n",
              "    async function quickchart(key) {\n",
              "      const quickchartButtonEl =\n",
              "        document.querySelector('#' + key + ' button');\n",
              "      quickchartButtonEl.disabled = true;  // To prevent multiple clicks.\n",
              "      quickchartButtonEl.classList.add('colab-df-spinner');\n",
              "      try {\n",
              "        const charts = await google.colab.kernel.invokeFunction(\n",
              "            'suggestCharts', [key], {});\n",
              "      } catch (error) {\n",
              "        console.error('Error during call to suggestCharts:', error);\n",
              "      }\n",
              "      quickchartButtonEl.classList.remove('colab-df-spinner');\n",
              "      quickchartButtonEl.classList.add('colab-df-quickchart-complete');\n",
              "    }\n",
              "    (() => {\n",
              "      let quickchartButtonEl =\n",
              "        document.querySelector('#df-f712ff84-fa16-47e6-ac5e-5fa51705eda1 button');\n",
              "      quickchartButtonEl.style.display =\n",
              "        google.colab.kernel.accessAllowed ? 'block' : 'none';\n",
              "    })();\n",
              "  </script>\n",
              "</div>\n",
              "\n",
              "  <div id=\"id_c6db4a63-73d4-4d61-8976-c98a1a86d3be\">\n",
              "    <style>\n",
              "      .colab-df-generate {\n",
              "        background-color: #E8F0FE;\n",
              "        border: none;\n",
              "        border-radius: 50%;\n",
              "        cursor: pointer;\n",
              "        display: none;\n",
              "        fill: #1967D2;\n",
              "        height: 32px;\n",
              "        padding: 0 0 0 0;\n",
              "        width: 32px;\n",
              "      }\n",
              "\n",
              "      .colab-df-generate:hover {\n",
              "        background-color: #E2EBFA;\n",
              "        box-shadow: 0px 1px 2px rgba(60, 64, 67, 0.3), 0px 1px 3px 1px rgba(60, 64, 67, 0.15);\n",
              "        fill: #174EA6;\n",
              "      }\n",
              "\n",
              "      [theme=dark] .colab-df-generate {\n",
              "        background-color: #3B4455;\n",
              "        fill: #D2E3FC;\n",
              "      }\n",
              "\n",
              "      [theme=dark] .colab-df-generate:hover {\n",
              "        background-color: #434B5C;\n",
              "        box-shadow: 0px 1px 3px 1px rgba(0, 0, 0, 0.15);\n",
              "        filter: drop-shadow(0px 1px 2px rgba(0, 0, 0, 0.3));\n",
              "        fill: #FFFFFF;\n",
              "      }\n",
              "    </style>\n",
              "    <button class=\"colab-df-generate\" onclick=\"generateWithVariable('df')\"\n",
              "            title=\"Generate code using this dataframe.\"\n",
              "            style=\"display:none;\">\n",
              "\n",
              "  <svg xmlns=\"http://www.w3.org/2000/svg\" height=\"24px\"viewBox=\"0 0 24 24\"\n",
              "       width=\"24px\">\n",
              "    <path d=\"M7,19H8.4L18.45,9,17,7.55,7,17.6ZM5,21V16.75L18.45,3.32a2,2,0,0,1,2.83,0l1.4,1.43a1.91,1.91,0,0,1,.58,1.4,1.91,1.91,0,0,1-.58,1.4L9.25,21ZM18.45,9,17,7.55Zm-12,3A5.31,5.31,0,0,0,4.9,8.1,5.31,5.31,0,0,0,1,6.5,5.31,5.31,0,0,0,4.9,4.9,5.31,5.31,0,0,0,6.5,1,5.31,5.31,0,0,0,8.1,4.9,5.31,5.31,0,0,0,12,6.5,5.46,5.46,0,0,0,6.5,12Z\"/>\n",
              "  </svg>\n",
              "    </button>\n",
              "    <script>\n",
              "      (() => {\n",
              "      const buttonEl =\n",
              "        document.querySelector('#id_c6db4a63-73d4-4d61-8976-c98a1a86d3be button.colab-df-generate');\n",
              "      buttonEl.style.display =\n",
              "        google.colab.kernel.accessAllowed ? 'block' : 'none';\n",
              "\n",
              "      buttonEl.onclick = () => {\n",
              "        google.colab.notebook.generateWithVariable('df');\n",
              "      }\n",
              "      })();\n",
              "    </script>\n",
              "  </div>\n",
              "\n",
              "    </div>\n",
              "  </div>\n"
            ],
            "text/plain": [
              "                                          embeddings  \\\n",
              "0  [0.056587886065244675, -0.02480756677687168, -...   \n",
              "1  [0.03179985284805298, -0.010213697329163551, -...   \n",
              "2  [0.052620116621255875, -0.015188580378890038, ...   \n",
              "3  [0.04529229924082756, -0.01137058436870575, -0...   \n",
              "4  [0.04843682795763016, -0.03361263498663902, 0....   \n",
              "5  [0.03611447289586067, -0.03427395224571228, -0...   \n",
              "6  [0.0539969727396965, 0.026326457038521767, -0....   \n",
              "7  [-0.00819326564669609, 0.0029475842602550983, ...   \n",
              "8  [0.04129211977124214, -0.02891802228987217, -0...   \n",
              "9  [0.08152654767036438, 0.000555358303245157, -0...   \n",
              "\n",
              "                                           documents  \n",
              "0  Crew members discuss the pressure and other da...  \n",
              "1  Two people are discussing a flight plan. One p...  \n",
              "2  Apollo 11 astronauts Buzz Aldrin and Neil Arms...  \n",
              "3  This video shows a side-by-side comparison of ...  \n",
              "4  This is footage from the Apollo 11 moon landin...  \n",
              "5  This video is a comparison of the original NAS...  \n",
              "6  This audio is a conversation between two peopl...  \n",
              "7  Two people are talking about flying and how to...  \n",
              "8  A group of astronauts are on a mission in spac...  \n",
              "9  This document outlines ground rules and assump...  "
            ]
          },
          "execution_count": 22,
          "metadata": {},
          "output_type": "execute_result"
        }
      ],
      "source": [
        "data = {\n",
        "    'embeddings': db.peek()['embeddings'],\n",
        "    'documents': db.peek()['documents']\n",
        "}\n",
        "\n",
        "df = pd.DataFrame.from_dict(data, orient='index').transpose()\n",
        "df"
      ]
    },
    {
      "cell_type": "code",
      "execution_count": 23,
      "metadata": {
        "colab": {
          "base_uri": "https://localhost:8080/",
          "height": 35
        },
        "id": "AO7ANSetXBKH",
        "outputId": "19c5eade-678e-4bf4-8f49-bb99899296c8"
      },
      "outputs": [
        {
          "name": "stdout",
          "output_type": "stream",
          "text": [
            "['0', '6', '8']\n"
          ]
        }
      ],
      "source": [
        "files = get_relevant_files(\"communication with Mission Control\", db)\n",
        "print(files)"
      ]
    },
    {
      "cell_type": "markdown",
      "metadata": {
        "id": "vOSdVDCw-pgR"
      },
      "source": [
        "Can we do more than just return the most relevant file? Yes we can! We can ask Gemini to return a response to the query using the files it thinks are most relevant, provide an answer and tell us what files it used."
      ]
    },
    {
      "cell_type": "code",
      "execution_count": 24,
      "metadata": {
        "id": "55Jd20kduHMt"
      },
      "outputs": [],
      "source": [
        "def query_rag(query, db):\n",
        "    files = get_relevant_files(query, db)\n",
        "    prompt = [all_files[int(f)] for f in files]\n",
        "    prompt.append(\"Generate a response to the query using the provided files. Here is the query.\")\n",
        "    prompt.append(query)\n",
        "    return model.generate_content(prompt).text, [all_file_names[int(f)] for f in files]"
      ]
    },
    {
      "cell_type": "code",
      "execution_count": 25,
      "metadata": {
        "colab": {
          "base_uri": "https://localhost:8080/",
          "height": 200
        },
        "id": "v-gfX1LfuHMt",
        "outputId": "e2dc795d-1a68-4b79-e4ab-6605decee2c4"
      },
      "outputs": [
        {
          "name": "stdout",
          "output_type": "stream",
          "text": [
            "The Apollo 11 Mission launched on July 16, 1969. The mission was a monumental event in human history, as it marked the first time humans walked on the moon. It was part of the US government's efforts to beat the Soviet Union in the space race. \n",
            "\n",
            "The mission involved three astronauts, Neil Armstrong, Buzz Aldrin, and Michael Collins, aboard the Apollo 11 spacecraft. On July 20, 1969, Armstrong and Aldrin became the first humans to walk on the moon's surface. Armstrong famously said, \"That's one small step for man, one giant leap for mankind.\"\n",
            "\n",
            "The astronauts spent several hours on the moon, taking photographs, collecting lunar samples, planting the American flag, and leaving a plaque commemorating the mission. They also conducted scientific experiments before returning to the lunar module and ascending to the command module. Collins remained in lunar orbit during this time.\n",
            "\n",
            "The mission concluded on July 24, 1969, when the astronauts splashed down safely in the Pacific Ocean. The Apollo 11 Mission was a huge success and greatly impacted human understanding of the moon and our place in the universe.\n",
            "\n",
            "['resources/video/Apollo11Intro.mov', 'resources/audio/Apollo11OnboardAudioHighlightClip3.mp3', 'resources/video/Apollo11PlaqueComparison.mov']\n"
          ]
        }
      ],
      "source": [
        "for response in query_rag(\"Explain what happened with the Apollo 11 Mission.\", db):\n",
        "    print(response)"
      ]
    },
    {
      "cell_type": "code",
      "execution_count": 26,
      "metadata": {
        "colab": {
          "base_uri": "https://localhost:8080/",
          "height": 53
        },
        "id": "k02GjIuEuHMt",
        "outputId": "f0315f13-3403-41b7-bc10-3769290d6842"
      },
      "outputs": [
        {
          "name": "stdout",
          "output_type": "stream",
          "text": [
            "The Mission Description does not mention a Translunar Coast. \n",
            "['resources/video/Apollo11MoonwalkMontage.mov', 'resources/audio/Apollo11OnboardAudioHighlightClip4.mp3', 'resources/audio/Apollo11OnboardAudioHighlightClip1.mp3']\n"
          ]
        }
      ],
      "source": [
        "for response in query_rag(\"What happens at the Translunar Coast in the Mission Description?\", db):\n",
        "    print(response)"
      ]
    },
    {
      "cell_type": "markdown",
      "metadata": {
        "id": "k_wnqG1k-5W5"
      },
      "source": [
        "A full end to end multimodal RAG."
      ]
    }
  ],
  "metadata": {
    "colab": {
      "provenance": []
    },
    "kernelspec": {
      "display_name": "Python 3",
      "name": "python3"
    },
    "language_info": {
      "codemirror_mode": {
        "name": "ipython",
        "version": 3
      },
      "file_extension": ".py",
      "mimetype": "text/x-python",
      "name": "python",
      "nbconvert_exporter": "python",
      "pygments_lexer": "ipython3",
      "version": "3.11.8"
    }
  },
  "nbformat": 4,
  "nbformat_minor": 0
}
